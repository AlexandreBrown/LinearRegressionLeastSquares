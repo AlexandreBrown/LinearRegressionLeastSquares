{
 "cells": [
  {
   "cell_type": "code",
   "execution_count": 10,
   "id": "77377b71-00ae-4beb-a293-f202835fe03b",
   "metadata": {},
   "outputs": [],
   "source": [
    "import matplotlib.pyplot as plt\n",
    "import numpy as np\n",
    "import pandas as pd"
   ]
  },
  {
   "cell_type": "markdown",
   "id": "112f574f-4cae-4326-bea9-c409eb86457e",
   "metadata": {},
   "source": [
    "# 1."
   ]
  },
  {
   "cell_type": "code",
   "execution_count": 96,
   "id": "f1ef2b25-1530-47b1-9375-f8d0f7495ce3",
   "metadata": {},
   "outputs": [],
   "source": [
    "X = np.arange(1, 8)\n",
    "Y = np.array([1.5, 3.8, 6.7, 9.0, 11.2, 13.6, 16])"
   ]
  },
  {
   "cell_type": "code",
   "execution_count": 9,
   "id": "b8fb3328-f953-4175-bb72-495323a18b2d",
   "metadata": {},
   "outputs": [
    {
     "data": {
      "text/plain": [
       "<matplotlib.collections.PathCollection at 0x7f81047105e0>"
      ]
     },
     "execution_count": 9,
     "metadata": {},
     "output_type": "execute_result"
    },
    {
     "data": {
      "image/png": "[encoded data removed]",
      "text/plain": [
       "<Figure size 432x288 with 1 Axes>"
      ]
     },
     "metadata": {
      "needs_background": "light"
     },
     "output_type": "display_data"
    }
   ],
   "source": [
    "fig, ax = plt.subplots()\n",
    "ax.scatter(X, Y)"
   ]
  },
  {
   "cell_type": "markdown",
   "id": "a5e2763a-4891-45f7-aa9e-f9873d36b0bd",
   "metadata": {},
   "source": [
    "## 1.1 Estimate the slope  \n",
    "$$y = mx + b$$  \n",
    "We will show 2 equations to compute an approximation of the slope."
   ]
  },
  {
   "cell_type": "markdown",
   "id": "ac8fda83-328e-4f35-ae9d-73b4df38828f",
   "metadata": {},
   "source": [
    "### Method 1 \n",
    "$$\n",
    "m = \\frac{n \\sum_{{i=1}}^{n} x_iy_i - \\sum_{{i=1}}^{n} x_i  \\sum_{{i=1}}^{n} y_i}{n \\sum_{{i=1}}^{n} x^2_i - (\\sum_{{i=1}}^{n} x_i )^2}\n",
    "$$"
   ]
  },
  {
   "cell_type": "markdown",
   "id": "ac231ed8-f74b-41ee-a0f7-f7c5c0fd35ef",
   "metadata": {},
   "source": [
    "#### 1.1.1 Compute required inputs for formula"
   ]
  },
  {
   "cell_type": "code",
   "execution_count": 57,
   "id": "efbcfaba-a02d-447c-899d-21cefca571eb",
   "metadata": {},
   "outputs": [
    {
     "name": "stdout",
     "output_type": "stream",
     "text": [
      "n : 7\n"
     ]
    },
    {
     "data": {
      "text/html": [
       "<div>\n",
       "<style scoped>\n",
       "    .dataframe tbody tr th:only-of-type {\n",
       "        vertical-align: middle;\n",
       "    }\n",
       "\n",
       "    .dataframe tbody tr th {\n",
       "        vertical-align: top;\n",
       "    }\n",
       "\n",
       "    .dataframe thead th {\n",
       "        text-align: right;\n",
       "    }\n",
       "</style>\n",
       "<table border=\"1\" class=\"dataframe\">\n",
       "  <thead>\n",
       "    <tr style=\"text-align: right;\">\n",
       "      <th></th>\n",
       "      <th>X</th>\n",
       "      <th>Y</th>\n",
       "      <th>XY</th>\n",
       "      <th>X**2</th>\n",
       "    </tr>\n",
       "  </thead>\n",
       "  <tbody>\n",
       "    <tr>\n",
       "      <th>0</th>\n",
       "      <td>1</td>\n",
       "      <td>1.5</td>\n",
       "      <td>1.5</td>\n",
       "      <td>1</td>\n",
       "    </tr>\n",
       "    <tr>\n",
       "      <th>1</th>\n",
       "      <td>2</td>\n",
       "      <td>3.8</td>\n",
       "      <td>7.6</td>\n",
       "      <td>4</td>\n",
       "    </tr>\n",
       "    <tr>\n",
       "      <th>2</th>\n",
       "      <td>3</td>\n",
       "      <td>6.7</td>\n",
       "      <td>20.1</td>\n",
       "      <td>9</td>\n",
       "    </tr>\n",
       "    <tr>\n",
       "      <th>3</th>\n",
       "      <td>4</td>\n",
       "      <td>9.0</td>\n",
       "      <td>36.0</td>\n",
       "      <td>16</td>\n",
       "    </tr>\n",
       "    <tr>\n",
       "      <th>4</th>\n",
       "      <td>5</td>\n",
       "      <td>11.2</td>\n",
       "      <td>56.0</td>\n",
       "      <td>25</td>\n",
       "    </tr>\n",
       "    <tr>\n",
       "      <th>5</th>\n",
       "      <td>6</td>\n",
       "      <td>13.6</td>\n",
       "      <td>81.6</td>\n",
       "      <td>36</td>\n",
       "    </tr>\n",
       "    <tr>\n",
       "      <th>6</th>\n",
       "      <td>7</td>\n",
       "      <td>16.0</td>\n",
       "      <td>112.0</td>\n",
       "      <td>49</td>\n",
       "    </tr>\n",
       "  </tbody>\n",
       "</table>\n",
       "</div>"
      ],
      "text/plain": [
       "   X     Y     XY  X**2\n",
       "0  1   1.5    1.5     1\n",
       "1  2   3.8    7.6     4\n",
       "2  3   6.7   20.1     9\n",
       "3  4   9.0   36.0    16\n",
       "4  5  11.2   56.0    25\n",
       "5  6  13.6   81.6    36\n",
       "6  7  16.0  112.0    49"
      ]
     },
     "execution_count": 57,
     "metadata": {},
     "output_type": "execute_result"
    }
   ],
   "source": [
    "df = pd.DataFrame({\n",
    "    'X': X,\n",
    "    'Y': Y,\n",
    "    'XY': X * Y,\n",
    "    'X**2': X**2\n",
    "})\n",
    "n = len(X)\n",
    "print(f\"n : {n}\")\n",
    "df"
   ]
  },
  {
   "cell_type": "markdown",
   "id": "052376bf-affb-453c-ab9d-348a275a8b72",
   "metadata": {
    "tags": []
   },
   "source": [
    "#### 1.1.2 Sum column wise"
   ]
  },
  {
   "cell_type": "code",
   "execution_count": 58,
   "id": "e8b7b93e-d639-4323-ad48-cd4454ebe10b",
   "metadata": {},
   "outputs": [
    {
     "name": "stdout",
     "output_type": "stream",
     "text": [
      "X_sum : 28.0\n",
      "Y_sum : 61.80\n",
      "XY_sum : 314.8\n",
      "X_square_sum : 140.0\n"
     ]
    }
   ],
   "source": [
    "(X_sum, Y_sum, XY_sum, X_square_sum) = df.sum(axis=0)\n",
    "print(f\"X_sum : {X_sum}\")\n",
    "print(f\"Y_sum : {Y_sum:.2f}\")\n",
    "print(f\"XY_sum : {XY_sum}\")\n",
    "print(f\"X_square_sum : {X_square_sum}\")"
   ]
  },
  {
   "cell_type": "markdown",
   "id": "a1c11e92-b8fe-4fc1-a89d-248f3c15b1e7",
   "metadata": {},
   "source": [
    "#### 1.1.3 Compute m (the slope)"
   ]
  },
  {
   "cell_type": "markdown",
   "id": "db7d1c51-4e30-454a-acaa-0d4e89b27650",
   "metadata": {},
   "source": [
    "$$\n",
    "m = \\frac{7(314.8) - (28)(61.8)}{7(140) - (28)^2}\n",
    "$$\n",
    "$$$$\n",
    "$$\n",
    "m = \\frac{473.2}{196}\n",
    "$$\n",
    "$$$$\n",
    "$$\n",
    "m = 2.414285714286\n",
    "$$"
   ]
  },
  {
   "cell_type": "code",
   "execution_count": 54,
   "id": "95f4b65d-066e-43c2-bc85-0daf6f09d259",
   "metadata": {},
   "outputs": [
    {
     "name": "stdout",
     "output_type": "stream",
     "text": [
      "473.20\n"
     ]
    }
   ],
   "source": [
    "rise_1 = n * XY_sum - X_sum * Y_sum\n",
    "print(f\"{rise_1:.2f}\")"
   ]
  },
  {
   "cell_type": "code",
   "execution_count": 55,
   "id": "5ab4e663-dcd2-4082-8e76-f7ba545758f7",
   "metadata": {},
   "outputs": [
    {
     "name": "stdout",
     "output_type": "stream",
     "text": [
      "196.00\n"
     ]
    }
   ],
   "source": [
    "run_1 = n * X_square_sum - (X_sum)**2\n",
    "print(f\"{run_1:.2f}\")"
   ]
  },
  {
   "cell_type": "code",
   "execution_count": 90,
   "id": "481d2f40-6609-494b-b2e7-636cc8508b1c",
   "metadata": {},
   "outputs": [
    {
     "name": "stdout",
     "output_type": "stream",
     "text": [
      "(method 1) m = 2.414285714286\n"
     ]
    }
   ],
   "source": [
    "m_1 = rise_1/run_1\n",
    "print(f\"(method 1) m = {m_1:.12f}\")"
   ]
  },
  {
   "cell_type": "markdown",
   "id": "431e3248-621f-48e1-8f34-0cd4562df1ea",
   "metadata": {},
   "source": [
    "### Method 2\n",
    "$$\n",
    "\\frac{\\sum_{{i=1}}^{n} (x_i-\\bar{x})(y_i-\\bar{y})}{\\sum_{{i=1}}^{n} (x_i-\\bar{x})^2}  \n",
    "$$"
   ]
  },
  {
   "cell_type": "markdown",
   "id": "4f7630a5-cbbb-48a0-b043-b14ff7109f91",
   "metadata": {},
   "source": [
    "#### 1.1.1 Compute required inputs for formula"
   ]
  },
  {
   "cell_type": "code",
   "execution_count": 74,
   "id": "38e5c620-a7f4-443e-a1b2-4a604d4c19a6",
   "metadata": {},
   "outputs": [
    {
     "name": "stdout",
     "output_type": "stream",
     "text": [
      "X_mean : 4.00\n",
      "Y_mean : 8.83\n"
     ]
    }
   ],
   "source": [
    "X_mean = np.mean(X)\n",
    "Y_mean = np.mean(Y)\n",
    "\n",
    "print(f\"X_mean : {X_mean:.2f}\")\n",
    "print(f\"Y_mean : {Y_mean:.2f}\")"
   ]
  },
  {
   "cell_type": "markdown",
   "id": "8cb71af4-79e6-4c3d-a911-0e0c81792d4a",
   "metadata": {},
   "source": [
    "#### 1.1.2 Compute m (the slope) \n",
    "\n",
    "$$\n",
    "m = \\frac{67.6}{28}\n",
    "$$\n",
    "$$$$\n",
    "$$\n",
    "m = 2.414285714286\n",
    "$$"
   ]
  },
  {
   "cell_type": "code",
   "execution_count": 83,
   "id": "2bd89572-e0b8-45ee-9284-786f74f928b8",
   "metadata": {},
   "outputs": [
    {
     "data": {
      "text/plain": [
       "67.6"
      ]
     },
     "execution_count": 83,
     "metadata": {},
     "output_type": "execute_result"
    }
   ],
   "source": [
    "rise_2 = np.sum((X - X_mean) * (Y - Y_mean))\n",
    "rise_2"
   ]
  },
  {
   "cell_type": "code",
   "execution_count": 84,
   "id": "29391b6b-fbfe-4e05-b255-0c43646a7007",
   "metadata": {},
   "outputs": [
    {
     "data": {
      "text/plain": [
       "28.0"
      ]
     },
     "execution_count": 84,
     "metadata": {},
     "output_type": "execute_result"
    }
   ],
   "source": [
    "run_2 = np.sum((X - X_mean)**2)\n",
    "run_2"
   ]
  },
  {
   "cell_type": "code",
   "execution_count": 91,
   "id": "e9d2ee98-1125-425a-aeef-b71e940bd25e",
   "metadata": {},
   "outputs": [
    {
     "name": "stdout",
     "output_type": "stream",
     "text": [
      "(method 2) m = 2.414285714286\n"
     ]
    }
   ],
   "source": [
    "m_2 = rise_2/run_2\n",
    "print(f\"(method 2) m = {m_2:.12f}\")"
   ]
  },
  {
   "cell_type": "markdown",
   "id": "9233ca6a-b2f3-46ed-93ec-19f5169b4528",
   "metadata": {},
   "source": [
    "## 1.2 Estimate the y-intercept \n",
    "We will show 2 equations to compute an approximation of the y intercept."
   ]
  },
  {
   "cell_type": "markdown",
   "id": "ac84e80f-7a4f-411e-8eb2-015fe8adf7f7",
   "metadata": {},
   "source": [
    "### Method 1 \n",
    "$$\n",
    "b = \\frac{\\sum_{{i=1}}^{n} y_i - m\\sum_{{i=1}}^{n} x_i}{n}\n",
    "$$"
   ]
  },
  {
   "cell_type": "code",
   "execution_count": 92,
   "id": "d6096a89-9f0d-4f03-88d1-31cd3f0f7c18",
   "metadata": {},
   "outputs": [
    {
     "name": "stdout",
     "output_type": "stream",
     "text": [
      "(method 1) b = -0.828571428571\n"
     ]
    }
   ],
   "source": [
    "b_1 = (Y_sum - m_1 * X_sum)/n\n",
    "print(f\"(method 1) b = {b_1:.12f}\")"
   ]
  },
  {
   "cell_type": "markdown",
   "id": "14ffddc2-205b-4012-840d-536ab4d0373d",
   "metadata": {},
   "source": [
    "### Method 2  \n",
    "$$\n",
    "b = \\bar{y} - m\\bar{x}\n",
    "$$"
   ]
  },
  {
   "cell_type": "code",
   "execution_count": 93,
   "id": "d1d1df5a-d660-4dbd-acb5-de8267773a70",
   "metadata": {},
   "outputs": [
    {
     "name": "stdout",
     "output_type": "stream",
     "text": [
      "(method 2) b = -0.828571428571\n"
     ]
    }
   ],
   "source": [
    "b_2 = Y_mean - m_2 * X_mean\n",
    "print(f\"(method 2) b = {b_2:.12f}\")"
   ]
  },
  {
   "cell_type": "markdown",
   "id": "46d55034-a0ac-43e4-b9c4-8c4b1b5cde02",
   "metadata": {},
   "source": [
    "## 1.3 Result   \n",
    "\n",
    "$y = mx + b$  \n",
    "$y \\approx (2.4142857)x -0.82857$"
   ]
  },
  {
   "cell_type": "code",
   "execution_count": 118,
   "id": "a371533f-cc53-4e4a-a883-9969a9f0359d",
   "metadata": {},
   "outputs": [],
   "source": [
    "Y_approximation = m_2*X + b_2"
   ]
  },
  {
   "cell_type": "markdown",
   "id": "5f6d5b69-d39e-47b4-bba0-231705109c1d",
   "metadata": {},
   "source": [
    "## Compute performance metrics & visualize results"
   ]
  },
  {
   "cell_type": "code",
   "execution_count": 171,
   "id": "30ed12db-48bb-4a88-b40d-1645117b38a1",
   "metadata": {},
   "outputs": [
    {
     "data": {
      "text/plain": [
       "<matplotlib.legend.Legend at 0x7f80a73b0ca0>"
      ]
     },
     "execution_count": 171,
     "metadata": {},
     "output_type": "execute_result"
    },
    {
     "data": {
      "image/png": "[encoded data removed]",
      "text/plain": [
       "<Figure size 1332x756 with 1 Axes>"
      ]
     },
     "metadata": {
      "needs_background": "light"
     },
     "output_type": "display_data"
    }
   ],
   "source": [
    "fig = plt.gcf()\n",
    "fig.set_size_inches(18.5, 10.5)\n",
    "plt.scatter(X, Y, color='b', label='Actual')\n",
    "plt.plot(X, Y_approximation, color='r', label='Approximation')\n",
    "plt.legend(fontsize=20)"
   ]
  },
  {
   "cell_type": "code",
   "execution_count": 172,
   "id": "5c20aac8-2abc-43d3-b118-26040f0d1689",
   "metadata": {},
   "outputs": [],
   "source": [
    "squared_error = np.sum((Y - Y_approximation)**2)"
   ]
  },
  {
   "cell_type": "code",
   "execution_count": 173,
   "id": "3f06de04-ec12-463f-af73-c75fd8d63719",
   "metadata": {},
   "outputs": [],
   "source": [
    "mse = squared_error / n"
   ]
  },
  {
   "cell_type": "code",
   "execution_count": 174,
   "id": "a9067a07-c281-4bed-abf3-0dc8ebd52426",
   "metadata": {},
   "outputs": [],
   "source": [
    "rse = squared_error / (np.sum((Y - Y_mean)**2))"
   ]
  },
  {
   "cell_type": "code",
   "execution_count": 175,
   "id": "60301474-3b76-4ae8-b48f-2554bd3718c5",
   "metadata": {},
   "outputs": [],
   "source": [
    "r_square = 1 - rse"
   ]
  },
  {
   "cell_type": "code",
   "execution_count": 178,
   "id": "23634bb6-20aa-4873-b9e0-7a0868c5c022",
   "metadata": {},
   "outputs": [
    {
     "data": {
      "text/html": [
       "<div>\n",
       "<style scoped>\n",
       "    .dataframe tbody tr th:only-of-type {\n",
       "        vertical-align: middle;\n",
       "    }\n",
       "\n",
       "    .dataframe tbody tr th {\n",
       "        vertical-align: top;\n",
       "    }\n",
       "\n",
       "    .dataframe thead th {\n",
       "        text-align: right;\n",
       "    }\n",
       "</style>\n",
       "<table border=\"1\" class=\"dataframe\">\n",
       "  <thead>\n",
       "    <tr style=\"text-align: right;\">\n",
       "      <th></th>\n",
       "      <th>R square</th>\n",
       "      <th>MSE</th>\n",
       "    </tr>\n",
       "  </thead>\n",
       "  <tbody>\n",
       "    <tr>\n",
       "      <th>0</th>\n",
       "      <td>0.998968</td>\n",
       "      <td>0.024082</td>\n",
       "    </tr>\n",
       "  </tbody>\n",
       "</table>\n",
       "</div>"
      ],
      "text/plain": [
       "   R square       MSE\n",
       "0  0.998968  0.024082"
      ]
     },
     "execution_count": 178,
     "metadata": {},
     "output_type": "execute_result"
    }
   ],
   "source": [
    "pd.DataFrame({\n",
    "    'R square': r_square,\n",
    "    'MSE': mse,\n",
    "},index=[0])"
   ]
  }
 ],
 "metadata": {
  "kernelspec": {
   "display_name": "Python 3 (ipykernel)",
   "language": "python",
   "name": "python3"
  },
  "language_info": {
   "codemirror_mode": {
    "name": "ipython",
    "version": 3
   },
   "file_extension": ".py",
   "mimetype": "text/x-python",
   "name": "python",
   "nbconvert_exporter": "python",
   "pygments_lexer": "ipython3",
   "version": "3.9.7"
  }
 },
 "nbformat": 4,
 "nbformat_minor": 5
}
